{
 "cells": [
  {
   "cell_type": "code",
   "execution_count": 2,
   "id": "8d033aa0",
   "metadata": {},
   "outputs": [
    {
     "name": "stderr",
     "output_type": "stream",
     "text": [
      "YOLOv5  v7.0-419-gcd44191c Python-3.11.9 torch-2.7.0+cpu CPU\n",
      "\n",
      "Fusing layers... \n",
      "Model summary: 224 layers, 7070092 parameters, 0 gradients\n",
      "image 1/4 D:\\repos\\content\\project\\api\\yolov5\\data\\images\\Class=FlafIchkeria_Pic=19.png: 640x640 1 Ichkeria, 240.2ms\n",
      "image 2/4 D:\\repos\\content\\project\\api\\yolov5\\data\\images\\Class=FlafIgil_Pic=1.png: 640x640 1 Igil, 207.7ms\n",
      "image 3/4 D:\\repos\\content\\project\\api\\yolov5\\data\\images\\Class=FlafIgil_Pic=5.png: 640x640 1 Igil, 165.0ms\n",
      "image 4/4 D:\\repos\\content\\project\\api\\yolov5\\data\\images\\Class=FlafTaliban_Pic=10.png: 640x640 3 Talibans, 181.7ms\n",
      "Speed: 1.3ms pre-process, 198.7ms inference, 1.4ms NMS per image at shape (1, 3, 640, 640)\n",
      "Results saved to \u001b[1mresults\\detection\u001b[0m\n",
      "4 labels saved to results\\detection\\labels\n"
     ]
    },
    {
     "name": "stdout",
     "output_type": "stream",
     "text": [
      "{'Smax': 0.47546371875, 'Scom': 6.437839130859999, 'Savg': 0.2145946376953333, 'Dx': 0.022322702600000004, 'Dy': 0.0036393408605185193, 'Cmax': 0.965966, 'Cavg': 0.9354493333333334, 'n': 30}\n"
     ]
    }
   ],
   "source": [
    "import os\n",
    "from pathlib import Path\n",
    "from typing import Union, Dict\n",
    "from detect import run\n",
    "from metrics import analyze_labels\n",
    "\n",
    "def process_input(input_path: str, output_project: str = \"results\") -> Union[bool, Dict[str, float]]:\n",
    "    \"\"\"\n",
    "    Анализирует изображения и видео через YOLO, возвращает метрики или False если объектов нет.\n",
    "    \n",
    "    Параметры:\n",
    "        input_path (str): Путь к папке с изображениями/видео\n",
    "        output_project (str): Папка для сохранения результатов\n",
    "    \n",
    "    Возвращает:\n",
    "        dict или False: Словарь с метриками или False если объектов нет\n",
    "    \"\"\"\n",
    "    # Запуск детекции\n",
    "    run(\n",
    "        weights=\"./weights/warn150322_last.pt\",\n",
    "        source=input_path,\n",
    "        conf_thres=0.3,\n",
    "        project=output_project,\n",
    "        name=\"detection\",\n",
    "        save_txt=True,\n",
    "        save_conf=True,\n",
    "        line_thickness=5,\n",
    "        exist_ok=True\n",
    "    )\n",
    "\n",
    "    # Путь к лейблам\n",
    "    labels_dir = Path(output_project) / \"detection\" / \"labels\"\n",
    "    \n",
    "    # Проверка наличия объектов\n",
    "    if not labels_dir.exists():\n",
    "        return False\n",
    "    \n",
    "    stats = analyze_labels(str(labels_dir))\n",
    "    \n",
    "    if stats[\"global_stats\"][\"total_objects\"] == 0:\n",
    "        return False\n",
    "\n",
    "    classes = stats[\"classes\"]\n",
    "    if not classes:\n",
    "        return False\n",
    "\n",
    "    # Расчет метрик\n",
    "    total_objects = stats[\"global_stats\"][\"total_objects\"]\n",
    "    \n",
    "    return {\n",
    "        \"Smax\": max(c.max_s for c in classes),\n",
    "        \"Scom\": stats[\"global_stats\"][\"total_coverage\"],\n",
    "        \"Savg\": stats[\"global_stats\"][\"total_coverage\"] / total_objects,\n",
    "        \"Dx\": sum(c.var_x for c in classes) / len(classes),\n",
    "        \"Dy\": sum(c.var_y for c in classes) / len(classes),\n",
    "        \"Cmax\": max(c.max_c for c in classes),\n",
    "        \"Cavg\": sum(c.avg_c * c.count for c in classes) / total_objects,\n",
    "        \"n\": total_objects\n",
    "    }\n",
    "\n",
    "# Пример использования\n",
    "if __name__ == \"__main__\":\n",
    "    result = process_input(\"data/images\")\n",
    "    print(result if result else \"Объекты не обнаружены\")"
   ]
  },
  {
   "cell_type": "code",
   "execution_count": null,
   "id": "78bba978",
   "metadata": {},
   "outputs": [],
   "source": []
  }
 ],
 "metadata": {
  "kernelspec": {
   "display_name": "yolov5_environment",
   "language": "python",
   "name": "python3"
  },
  "language_info": {
   "codemirror_mode": {
    "name": "ipython",
    "version": 3
   },
   "file_extension": ".py",
   "mimetype": "text/x-python",
   "name": "python",
   "nbconvert_exporter": "python",
   "pygments_lexer": "ipython3",
   "version": "3.11.9"
  }
 },
 "nbformat": 4,
 "nbformat_minor": 5
}
